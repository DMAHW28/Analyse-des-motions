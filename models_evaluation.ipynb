{
 "cells": [
  {
   "cell_type": "code",
   "id": "initial_id",
   "metadata": {
    "collapsed": true,
    "ExecuteTime": {
     "end_time": "2025-07-10T22:30:19.374677Z",
     "start_time": "2025-07-10T22:30:16.445061Z"
    }
   },
   "source": [
    "import torch\n",
    "import seaborn as sns\n",
    "import torch.nn as nn\n",
    "from tqdm import tqdm\n",
    "import matplotlib.pyplot as plt\n",
    "from src.preprocessing import Data\n",
    "from src.models import TextClassifierTransformer\n",
    "from transformers import BertForSequenceClassification\n",
    "from peft import LoraConfig, get_peft_model\n",
    "from sklearn.metrics import accuracy_score, confusion_matrix, ConfusionMatrixDisplay, precision_score, recall_score, f1_score, classification_report"
   ],
   "outputs": [],
   "execution_count": 1
  },
  {
   "metadata": {
    "ExecuteTime": {
     "end_time": "2025-07-10T22:30:27.375756Z",
     "start_time": "2025-07-10T22:30:27.122679Z"
    }
   },
   "cell_type": "code",
   "source": [
    "batch_size=16\n",
    "plt.rcParams[\"figure.figsize\"] = (10, 10)  # Ajuster la taille globale\n",
    "device = torch.device(\"mps\" if torch.backends.mps.is_available() else \"cpu\" )\n",
    "data = Data(bert_token = True, train_file = \"data/train_dataset.csv\", test_file = \"data/test_dataset.csv\", val_file = \"data/validation_dataset.csv\", max_length=64)\n",
    "train_dataloader, validation_dataloader, test_dataloader = data.load_data(batch_size)"
   ],
   "id": "a108b00f050655b2",
   "outputs": [],
   "execution_count": 3
  },
  {
   "metadata": {
    "ExecuteTime": {
     "end_time": "2025-07-10T22:30:29.555252Z",
     "start_time": "2025-07-10T22:30:29.538792Z"
    }
   },
   "cell_type": "code",
   "source": [
    "# TRANSFORMER FR\n",
    "# Parameters \n",
    "device = torch.device(\"mps\" if torch.backends.mps.is_available() else \"cpu\" )\n",
    "print(device)\n",
    "dmodel: int=64\n",
    "n_head: int=1\n",
    "num_layers: int=1\n",
    "vocab_size: int= len(data.tokenizer.get_vocab())\n",
    "\n",
    "if data.output_dim is not None:\n",
    "    output_dim: int= data.output_dim \n",
    "else:\n",
    "    raise \"Output dimension is unknown\"\n",
    "\n",
    "dim_feedforward: int=2 * dmodel\n",
    "dropout: float=0.5\n",
    "max_len: int=vocab_size"
   ],
   "id": "c827598e14708921",
   "outputs": [
    {
     "name": "stdout",
     "output_type": "stream",
     "text": [
      "mps\n"
     ]
    }
   ],
   "execution_count": 4
  },
  {
   "metadata": {
    "ExecuteTime": {
     "end_time": "2025-07-10T22:30:31.594891Z",
     "start_time": "2025-07-10T22:30:31.486772Z"
    }
   },
   "cell_type": "code",
   "source": [
    "model_TRANS = TextClassifierTransformer(vocab_size=vocab_size, output_dim=output_dim, num_layers=num_layers, n_head=n_head, d_model=dmodel, dim_feedforward=dim_feedforward, dropout=dropout, max_len=max_len)\n",
    "model_TRANS.load_state_dict(torch.load(\"models/transformers_model_fn.pth\"))"
   ],
   "id": "6198377a9a2daed4",
   "outputs": [
    {
     "name": "stderr",
     "output_type": "stream",
     "text": [
      "/opt/homebrew/Caskroom/mambaforge/base/envs/txt_ml_env/lib/python3.9/site-packages/torch/nn/modules/transformer.py:282: UserWarning: enable_nested_tensor is True, but self.use_nested_tensor is False because encoder_layer.self_attn.num_heads is odd\n",
      "  warnings.warn(f\"enable_nested_tensor is True, but self.use_nested_tensor is False because {why_not_sparsity_fast_path}\")\n"
     ]
    },
    {
     "data": {
      "text/plain": [
       "<All keys matched successfully>"
      ]
     },
     "execution_count": 5,
     "metadata": {},
     "output_type": "execute_result"
    }
   ],
   "execution_count": 5
  },
  {
   "metadata": {
    "ExecuteTime": {
     "end_time": "2025-07-10T22:30:34.451582Z",
     "start_time": "2025-07-10T22:30:32.995819Z"
    }
   },
   "cell_type": "code",
   "source": [
    "# BERT\n",
    "model_BERT = BertForSequenceClassification.from_pretrained(\"bert-base-uncased\", num_labels=output_dim)\n",
    "model_BERT.load_state_dict(torch.load(\"models/bert_model.pth\", map_location=device))"
   ],
   "id": "4eb344a18be2b6b1",
   "outputs": [
    {
     "name": "stderr",
     "output_type": "stream",
     "text": [
      "Some weights of BertForSequenceClassification were not initialized from the model checkpoint at bert-base-uncased and are newly initialized: ['classifier.bias', 'classifier.weight']\n",
      "You should probably TRAIN this model on a down-stream task to be able to use it for predictions and inference.\n"
     ]
    },
    {
     "data": {
      "text/plain": [
       "<All keys matched successfully>"
      ]
     },
     "execution_count": 6,
     "metadata": {},
     "output_type": "execute_result"
    }
   ],
   "execution_count": 6
  },
  {
   "metadata": {
    "ExecuteTime": {
     "end_time": "2025-07-10T22:30:37.934809Z",
     "start_time": "2025-07-10T22:30:36.675441Z"
    }
   },
   "cell_type": "code",
   "source": [
    "# BERT\n",
    "model_BERT_LORA = BertForSequenceClassification.from_pretrained(\"bert-base-uncased\", num_labels=output_dim)\n",
    "\n",
    "lora_config = LoraConfig(\n",
    "    r=8, # Taille des matrices de basse-rang\n",
    "    lora_alpha=16, # Facteur de mise à l’échelle\n",
    "    lora_dropout=0.1, # Dropout pour éviter le sur-apprentissage\n",
    "    bias=\"none\",\n",
    "    task_type=\"SEQ_CLS\" # Pour classification de texte (Sequence Classification)\n",
    ")\n",
    "model_BERT_LORA = get_peft_model(model_BERT_LORA, lora_config)\n",
    "model_BERT_LORA.print_trainable_parameters()  # Vérifier que seuls les paramètres LoRA sont entraînables\n",
    "model_BERT_LORA.load_state_dict(torch.load(\"models/lora_bert_model.pth\"))"
   ],
   "id": "1eb1974ab0f52002",
   "outputs": [
    {
     "name": "stderr",
     "output_type": "stream",
     "text": [
      "Some weights of BertForSequenceClassification were not initialized from the model checkpoint at bert-base-uncased and are newly initialized: ['classifier.bias', 'classifier.weight']\n",
      "You should probably TRAIN this model on a down-stream task to be able to use it for predictions and inference.\n"
     ]
    },
    {
     "name": "stdout",
     "output_type": "stream",
     "text": [
      "trainable params: 299,526 || all params: 109,786,380 || trainable%: 0.2728\n"
     ]
    },
    {
     "data": {
      "text/plain": [
       "<All keys matched successfully>"
      ]
     },
     "execution_count": 7,
     "metadata": {},
     "output_type": "execute_result"
    }
   ],
   "execution_count": 7
  },
  {
   "metadata": {
    "ExecuteTime": {
     "end_time": "2025-07-10T22:30:40.648699Z",
     "start_time": "2025-07-10T22:30:40.641718Z"
    }
   },
   "cell_type": "code",
   "source": "criterion = nn.CrossEntropyLoss()",
   "id": "dd67c4c6e7a33812",
   "outputs": [],
   "execution_count": 8
  },
  {
   "metadata": {
    "ExecuteTime": {
     "end_time": "2025-07-10T22:30:42.172544Z",
     "start_time": "2025-07-10T22:30:41.471051Z"
    }
   },
   "cell_type": "code",
   "source": [
    "# Tokenisation des textes\n",
    "texts = [\n",
    "    \"I feel so alone and lost...\",\n",
    "    \"This is the best day of my life!\",\n",
    "    \"I love spending time with you.\",\n",
    "    \"I'm so angry at what he did to me!\",\n",
    "    \"I can't stop shaking, I'm so scared.\",\n",
    "    \"Wow! I didn't see that coming!\",\n",
    "    \"this film was just brilliant casting location scenery story direction everyone's really suited the part they played and you could just imagine being there robert\"\n",
    "]\n",
    "\n",
    "inputs = data.tokenizer(texts, padding=\"max_length\", truncation=True, max_length=128)\n",
    "src_inp = torch.tensor(inputs['input_ids'])\n",
    "src_mask = torch.tensor(inputs['attention_mask'], dtype=torch.bool)\n",
    "src_inp = src_inp.to(device)\n",
    "src_mask = src_mask.to(device)\n",
    "\n",
    "\"\"\"\n",
    "with torch.no_grad():\n",
    "    model_BERT.eval()\n",
    "    outputs = model_BERT(src_inp, src_mask)\n",
    "    outputs_prob  = torch.nn.functional.softmax(outputs.logits, dim=1)\n",
    "    predictions = torch.argmax(outputs_prob, dim=1)\n",
    "    print(\"Predictions BERT\")\n",
    "    print(predictions)\n",
    "\"\"\"\n",
    "\n",
    "with torch.no_grad():\n",
    "    device_lora = torch.device(\"cpu\")\n",
    "    src_inp = src_inp.to(device_lora)\n",
    "    src_mask = src_mask.to(device_lora)\n",
    "    model_BERT_LORA.eval()\n",
    "    outputs = model_BERT_LORA(src_inp, src_mask)\n",
    "    outputs_prob  = torch.nn.functional.softmax(outputs.logits, dim=1)\n",
    "    predictions = torch.argmax(outputs_prob, dim=1)\n",
    "    print(\"Predictions BERT LORA\")\n",
    "    print(predictions)\n",
    "    \n",
    "with torch.no_grad():\n",
    "    model_TRANS.eval()\n",
    "    outputs = model_TRANS(src_inp, src_mask)\n",
    "    outputs_prob  = torch.nn.functional.softmax(outputs, dim=1)\n",
    "    predictions = torch.argmax(outputs_prob, dim=1)\n",
    "    print(\"Predictions TFS\")\n",
    "    print(predictions)"
   ],
   "id": "af672252bc414c37",
   "outputs": [
    {
     "name": "stdout",
     "output_type": "stream",
     "text": [
      "Predictions BERT LORA\n",
      "tensor([0, 1, 2, 3, 4, 1, 1])\n",
      "Predictions TFS\n",
      "tensor([0, 1, 1, 3, 4, 1, 1])\n"
     ]
    }
   ],
   "execution_count": 9
  },
  {
   "metadata": {
    "ExecuteTime": {
     "end_time": "2025-07-10T22:31:42.833570Z",
     "start_time": "2025-07-10T22:31:18.300852Z"
    }
   },
   "cell_type": "code",
   "source": [
    "# BERT LOSS AND ACCURACY ON TEST DATASET\n",
    "losstot = 0\n",
    "correct = 0\n",
    "target_bert = []\n",
    "predicted_bert = []\n",
    "\n",
    "with torch.no_grad():  # Pas de calcul des gradients\n",
    "    model_BERT.eval()  # Mode évaluation\n",
    "    model_BERT.to(device)\n",
    "    for source, target, mask in tqdm(test_dataloader):\n",
    "        target = target.to(device)\n",
    "        source = source.to(device)\n",
    "        mask = mask.to(device).bool()\n",
    "        # Passage avant\n",
    "        outputs = model_BERT(source, mask)\n",
    "        # Calcul de la perte\n",
    "        loss = criterion(outputs.logits, target)\n",
    "        # Calcul des prédictions\n",
    "        predicted = torch.argmax(outputs.logits, dim=1)\n",
    "        correct += (predicted == target).sum().item()\n",
    "        losstot += loss.item()  \n",
    "        predicted_bert.extend(predicted.detach().cpu().numpy().reshape(-1))\n",
    "        target_bert.extend(target.detach().cpu().numpy().reshape(-1))\n",
    "\n",
    "# Calcul de l'accuracy\n",
    "accuracy = 100 * correct / len(test_dataloader.dataset)\n",
    "print(f'BERT Loss: {losstot / len(test_dataloader)}')  # Afficher la perte moyenne\n",
    "print(f'BERT Accuracy: {accuracy}%')  # Afficher l'accuracy en pourcentage"
   ],
   "id": "ae359bc385f2f002",
   "outputs": [
    {
     "name": "stderr",
     "output_type": "stream",
     "text": [
      "100%|██████████| 125/125 [00:23<00:00,  5.25it/s]"
     ]
    },
    {
     "name": "stdout",
     "output_type": "stream",
     "text": [
      "BERT Loss: 0.15989778290316461\n",
      "BERT Accuracy: 92.65%\n"
     ]
    },
    {
     "name": "stderr",
     "output_type": "stream",
     "text": [
      "\n"
     ]
    }
   ],
   "execution_count": 10
  },
  {
   "metadata": {
    "ExecuteTime": {
     "end_time": "2025-07-10T22:32:46.433481Z",
     "start_time": "2025-07-10T22:31:58.524214Z"
    }
   },
   "cell_type": "code",
   "source": [
    "# BERT LORA LOSS AND ACCURACY ON TEST DATASET\n",
    "losstot = 0\n",
    "correct = 0\n",
    "target_bert_lora = []\n",
    "predicted_bert_lora = []\n",
    "\n",
    "with torch.no_grad():  # Pas de calcul des gradients\n",
    "    model_BERT_LORA.eval()  # Mode évaluation\n",
    "    model_BERT_LORA.to(device_lora)\n",
    "    for source, target, mask in tqdm(test_dataloader):\n",
    "        target = target.to(device_lora)\n",
    "        source = source.to(device_lora)\n",
    "        mask = mask.to(device_lora).bool()\n",
    "        # Passage avant\n",
    "        outputs = model_BERT_LORA(source, mask)\n",
    "        # Calcul de la perte\n",
    "        loss = criterion(outputs.logits, target)\n",
    "        # Calcul des prédictions\n",
    "        predicted = torch.argmax(outputs.logits, dim=1)\n",
    "        correct += (predicted == target).sum().item()\n",
    "        losstot += loss.item()  \n",
    "        target_bert_lora.extend(predicted.detach().cpu().numpy().reshape(-1))\n",
    "        predicted_bert_lora.extend(target.detach().cpu().numpy().reshape(-1))\n",
    "\n",
    "# Calcul de la précision\n",
    "accuracy = 100 * correct / len(test_dataloader.dataset)\n",
    "print(f'BERT LORA Loss: {losstot / len(test_dataloader)}')  # Afficher la perte moyenne\n",
    "print(f'BERT LORA Accuracy: {accuracy}%')  # Afficher la précision en pourcentage"
   ],
   "id": "b3611de5e323e7af",
   "outputs": [
    {
     "name": "stderr",
     "output_type": "stream",
     "text": [
      "100%|██████████| 125/125 [00:47<00:00,  2.61it/s]"
     ]
    },
    {
     "name": "stdout",
     "output_type": "stream",
     "text": [
      "BERT LORA Loss: 0.26589315018057824\n",
      "BERT LORA Accuracy: 90.85%\n"
     ]
    },
    {
     "name": "stderr",
     "output_type": "stream",
     "text": [
      "\n"
     ]
    }
   ],
   "execution_count": 11
  },
  {
   "metadata": {
    "ExecuteTime": {
     "end_time": "2025-07-10T22:33:15.872373Z",
     "start_time": "2025-07-10T22:33:12.905861Z"
    }
   },
   "cell_type": "code",
   "source": [
    "# TRANSFOrMER FS LOSS AND ACCURACY ON TEST DATASET\n",
    "losstot = 0\n",
    "correct = 0\n",
    "target_trans = []\n",
    "predicted_trans = []\n",
    "\n",
    "with torch.no_grad():  # Pas de calcul des gradients\n",
    "    model_TRANS.eval()  # Mode évaluation\n",
    "    model_TRANS.to(device)\n",
    "    for source, target, mask in tqdm(test_dataloader):\n",
    "        target = target.to(device)\n",
    "        source = source.to(device)\n",
    "        mask = mask.to(device).bool()\n",
    "        # Passage avant\n",
    "        outputs = model_TRANS(source, mask)\n",
    "        # Calcul de la perte\n",
    "        loss = criterion(outputs, target)\n",
    "        # Calcul des prédictions\n",
    "        predicted = torch.argmax(outputs, dim=1)\n",
    "        correct += (predicted == target).sum().item()\n",
    "        losstot += loss.item()  \n",
    "        predicted_trans.extend(predicted.detach().cpu().numpy().reshape(-1))\n",
    "        target_trans.extend(target.detach().cpu().numpy().reshape(-1))\n",
    "\n",
    "# Calcul de la précision\n",
    "accuracy = 100 * correct / len(test_dataloader.dataset)\n",
    "print(f'TFS Loss: {losstot / len(test_dataloader)}')  # Afficher la perte moyenne\n",
    "print(f'TFS Accuracy: {accuracy}%')  # Afficher la précision en pourcentage"
   ],
   "id": "39b315fe90940b87",
   "outputs": [
    {
     "name": "stderr",
     "output_type": "stream",
     "text": [
      "100%|██████████| 125/125 [00:02<00:00, 47.56it/s]"
     ]
    },
    {
     "name": "stdout",
     "output_type": "stream",
     "text": [
      "TFS Loss: 0.2899790389984846\n",
      "TFS Accuracy: 89.2%\n"
     ]
    },
    {
     "name": "stderr",
     "output_type": "stream",
     "text": [
      "\n"
     ]
    }
   ],
   "execution_count": 12
  },
  {
   "metadata": {
    "ExecuteTime": {
     "end_time": "2025-07-10T22:33:25.978267Z",
     "start_time": "2025-07-10T22:33:25.947223Z"
    }
   },
   "cell_type": "code",
   "source": [
    "# BERT\n",
    "acc_score = accuracy_score(target_bert, predicted_bert)\n",
    "precision = precision_score(target_bert, predicted_bert, average=\"weighted\")\n",
    "recall = recall_score(target_bert, predicted_bert, average=\"weighted\")\n",
    "f1 = f1_score(target_bert, predicted_bert, average=\"weighted\")\n",
    "print(f'Accuracy: {acc_score}')\n",
    "print(f\"Précision : {precision:.2f}\")\n",
    "print(f\"Rappel : {recall:.2f}\")\n",
    "print(f\"F1-score : {f1:.2f}\")"
   ],
   "id": "5d1b82e8e7fb9cf0",
   "outputs": [
    {
     "name": "stdout",
     "output_type": "stream",
     "text": [
      "Accuracy: 0.9265\n",
      "Précision : 0.93\n",
      "Rappel : 0.93\n",
      "F1-score : 0.93\n"
     ]
    }
   ],
   "execution_count": 13
  },
  {
   "metadata": {
    "ExecuteTime": {
     "end_time": "2025-07-10T22:33:27.912727Z",
     "start_time": "2025-07-10T22:33:27.892696Z"
    }
   },
   "cell_type": "code",
   "source": [
    "# BERT LORA\n",
    "acc_score = accuracy_score(target_bert_lora, predicted_bert_lora)\n",
    "precision = precision_score(target_bert_lora, predicted_bert_lora, average=\"weighted\")\n",
    "recall = recall_score(target_bert_lora, predicted_bert_lora, average=\"weighted\")\n",
    "f1 = f1_score(target_bert_lora, predicted_bert_lora, average=\"weighted\")\n",
    "print(f'Accuracy: {acc_score}')\n",
    "print(f\"Précision : {precision:.2f}\")\n",
    "print(f\"Rappel : {recall:.2f}\")\n",
    "print(f\"F1-score : {f1:.2f}\")"
   ],
   "id": "1827566103787ef7",
   "outputs": [
    {
     "name": "stdout",
     "output_type": "stream",
     "text": [
      "Accuracy: 0.9085\n",
      "Précision : 0.91\n",
      "Rappel : 0.91\n",
      "F1-score : 0.91\n"
     ]
    }
   ],
   "execution_count": 14
  },
  {
   "metadata": {
    "ExecuteTime": {
     "end_time": "2025-07-10T22:33:31.597607Z",
     "start_time": "2025-07-10T22:33:31.578446Z"
    }
   },
   "cell_type": "code",
   "source": [
    "# TFS\n",
    "acc_score = accuracy_score(target_trans, predicted_trans)\n",
    "precision = precision_score(target_trans, predicted_trans, average=\"weighted\")\n",
    "recall = recall_score(target_trans, predicted_trans, average=\"weighted\")\n",
    "f1 = f1_score(target_trans, predicted_trans, average=\"weighted\")\n",
    "print(f'TFS Accuracy: {acc_score}')\n",
    "print(f\"TFS Précision : {precision:.2f}\")\n",
    "print(f\"TFS Rappel : {recall:.2f}\")\n",
    "print(f\"TFS F1-score : {f1:.2f}\")"
   ],
   "id": "5912fa529ef88de5",
   "outputs": [
    {
     "name": "stdout",
     "output_type": "stream",
     "text": [
      "TFS Accuracy: 0.892\n",
      "TFS Précision : 0.90\n",
      "TFS Rappel : 0.89\n",
      "TFS F1-score : 0.89\n"
     ]
    }
   ],
   "execution_count": 15
  },
  {
   "metadata": {
    "ExecuteTime": {
     "end_time": "2025-07-10T22:33:41.046655Z",
     "start_time": "2025-07-10T22:33:41.030632Z"
    }
   },
   "cell_type": "code",
   "source": [
    "# BERT:\n",
    "print(classification_report(target_bert, predicted_bert, digits=2))"
   ],
   "id": "449f88158a77d921",
   "outputs": [
    {
     "name": "stdout",
     "output_type": "stream",
     "text": [
      "              precision    recall  f1-score   support\n",
      "\n",
      "           0       0.95      0.97      0.96       581\n",
      "           1       0.94      0.96      0.95       695\n",
      "           2       0.85      0.81      0.83       159\n",
      "           3       0.94      0.89      0.91       275\n",
      "           4       0.86      0.92      0.89       224\n",
      "           5       0.84      0.64      0.72        66\n",
      "\n",
      "    accuracy                           0.93      2000\n",
      "   macro avg       0.90      0.86      0.88      2000\n",
      "weighted avg       0.93      0.93      0.93      2000\n",
      "\n"
     ]
    }
   ],
   "execution_count": 16
  },
  {
   "metadata": {
    "ExecuteTime": {
     "end_time": "2025-07-10T22:33:45.568762Z",
     "start_time": "2025-07-10T22:33:45.545472Z"
    }
   },
   "cell_type": "code",
   "source": [
    "# BERT LORA:\n",
    "print(classification_report(target_bert_lora, predicted_bert_lora, digits=2))"
   ],
   "id": "38f583a36555e511",
   "outputs": [
    {
     "name": "stdout",
     "output_type": "stream",
     "text": [
      "              precision    recall  f1-score   support\n",
      "\n",
      "           0       0.93      0.94      0.93       574\n",
      "           1       0.95      0.93      0.94       706\n",
      "           2       0.77      0.80      0.78       152\n",
      "           3       0.92      0.90      0.91       281\n",
      "           4       0.88      0.89      0.88       220\n",
      "           5       0.77      0.76      0.77        67\n",
      "\n",
      "    accuracy                           0.91      2000\n",
      "   macro avg       0.87      0.87      0.87      2000\n",
      "weighted avg       0.91      0.91      0.91      2000\n",
      "\n"
     ]
    }
   ],
   "execution_count": 17
  },
  {
   "metadata": {
    "ExecuteTime": {
     "end_time": "2025-07-10T22:33:47.840546Z",
     "start_time": "2025-07-10T22:33:47.826552Z"
    }
   },
   "cell_type": "code",
   "source": [
    "# TFS \n",
    "print(classification_report(target_trans, predicted_trans, digits=2))"
   ],
   "id": "155f137025d4ff61",
   "outputs": [
    {
     "name": "stdout",
     "output_type": "stream",
     "text": [
      "              precision    recall  f1-score   support\n",
      "\n",
      "           0       0.93      0.93      0.93       581\n",
      "           1       0.94      0.89      0.92       695\n",
      "           2       0.69      0.90      0.78       159\n",
      "           3       0.94      0.84      0.88       275\n",
      "           4       0.83      0.92      0.88       224\n",
      "           5       0.72      0.62      0.67        66\n",
      "\n",
      "    accuracy                           0.89      2000\n",
      "   macro avg       0.84      0.85      0.84      2000\n",
      "weighted avg       0.90      0.89      0.89      2000\n",
      "\n"
     ]
    }
   ],
   "execution_count": 18
  },
  {
   "metadata": {
    "ExecuteTime": {
     "end_time": "2025-07-10T22:34:13.703681Z",
     "start_time": "2025-07-10T22:34:13.122858Z"
    }
   },
   "cell_type": "code",
   "source": [
    "# BERT:\n",
    "clf_classes = [i for i in range(output_dim)]\n",
    "conf_mat_norm = confusion_matrix(target_bert, predicted_bert, normalize='true', labels=clf_classes)\n",
    "# Afficher la matrice avec matplotlib\n",
    "disp_norm = ConfusionMatrixDisplay(confusion_matrix=conf_mat_norm, display_labels=clf_classes)\n",
    "disp_norm.plot(cmap=plt.cm.Blues, values_format=\".2f\")\n",
    "plt.title(\"BERT Normalized Confusion matrix \")\n",
    "plt.grid(False)\n",
    "plt.show()"
   ],
   "id": "8b67958cb48ff820",
   "outputs": [
    {
     "data": {
      "text/plain": [
       "<Figure size 1000x1000 with 2 Axes>"
      ],
      "image/png": "[encoded data removed]"
     },
     "metadata": {},
     "output_type": "display_data"
    }
   ],
   "execution_count": 20
  },
  {
   "metadata": {
    "ExecuteTime": {
     "end_time": "2025-07-10T22:34:27.331070Z",
     "start_time": "2025-07-10T22:34:27.094211Z"
    }
   },
   "cell_type": "code",
   "source": [
    "# BERT LORA:\n",
    "clf_classes = [i for i in range(output_dim)]\n",
    "conf_mat_norm = confusion_matrix(target_bert_lora, predicted_bert_lora, normalize='true', labels=clf_classes)\n",
    "# Afficher la matrice avec matplotlib\n",
    "disp_norm = ConfusionMatrixDisplay(confusion_matrix=conf_mat_norm, display_labels=clf_classes)\n",
    "disp_norm.plot(cmap=plt.cm.Blues, values_format=\".2f\")\n",
    "plt.title(\"BERT LORA Normalized Confusion matrix \")\n",
    "plt.grid(False)\n",
    "plt.show()"
   ],
   "id": "f32abf8a1b22e692",
   "outputs": [
    {
     "data": {
      "text/plain": [
       "<Figure size 1000x1000 with 2 Axes>"
      ],
      "image/png": "[encoded data removed]"
     },
     "metadata": {},
     "output_type": "display_data"
    }
   ],
   "execution_count": 21
  },
  {
   "metadata": {
    "ExecuteTime": {
     "end_time": "2025-07-10T22:34:36.685109Z",
     "start_time": "2025-07-10T22:34:36.539516Z"
    }
   },
   "cell_type": "code",
   "source": [
    "# TFS:\n",
    "conf_mat_norm = confusion_matrix(target_trans, predicted_trans, normalize='true', labels=clf_classes)\n",
    "# Afficher la matrice avec matplotlib\n",
    "disp_norm = ConfusionMatrixDisplay(confusion_matrix=conf_mat_norm, display_labels=clf_classes)\n",
    "disp_norm.plot(cmap=plt.cm.Blues, values_format=\".2f\")\n",
    "plt.title(\"TFS Normalized Confusion matrix \")\n",
    "plt.grid(False)\n",
    "plt.show()"
   ],
   "id": "bc4a71480f9a2239",
   "outputs": [
    {
     "data": {
      "text/plain": [
       "<Figure size 1000x1000 with 2 Axes>"
      ],
      "image/png": "[encoded data removed]"
     },
     "metadata": {},
     "output_type": "display_data"
    }
   ],
   "execution_count": 22
  },
  {
   "metadata": {
    "ExecuteTime": {
     "end_time": "2025-07-10T22:35:03.187512Z",
     "start_time": "2025-07-10T22:35:03.169498Z"
    }
   },
   "cell_type": "code",
   "source": [
    "# Supposons que ton modèle s'appelle `model`\n",
    "total_params = sum(p.numel() for p in model_TRANS.parameters())\n",
    "trainable_params = sum(p.numel() for p in model_TRANS.parameters() if p.requires_grad)\n",
    "print(f\"TFS Total parameters: {total_params}\")\n",
    "print(f\"TFS Trainable parameters: {trainable_params}\")"
   ],
   "id": "8c89e3a1bf05232",
   "outputs": [
    {
     "name": "stdout",
     "output_type": "stream",
     "text": [
      "TFS Total parameters: 1987270\n",
      "TFS Trainable parameters: 1987270\n"
     ]
    }
   ],
   "execution_count": 23
  },
  {
   "metadata": {
    "ExecuteTime": {
     "end_time": "2025-07-10T22:35:04.796062Z",
     "start_time": "2025-07-10T22:35:04.788910Z"
    }
   },
   "cell_type": "code",
   "source": [
    "# Supposons que ton modèle s'appelle `model`\n",
    "total_params = sum(p.numel() for p in model_BERT.parameters())\n",
    "trainable_params = sum(p.numel() for p in model_BERT.parameters() if p.requires_grad)\n",
    "print(f\"BERT Total parameters: {total_params}\")\n",
    "print(f\"BERT Trainable parameters: {trainable_params}\")"
   ],
   "id": "4ac27a3fa8394379",
   "outputs": [
    {
     "name": "stdout",
     "output_type": "stream",
     "text": [
      "BERT Total parameters: 109486854\n",
      "BERT Trainable parameters: 109486854\n"
     ]
    }
   ],
   "execution_count": 24
  },
  {
   "metadata": {
    "ExecuteTime": {
     "end_time": "2025-07-10T22:35:24.368981Z",
     "start_time": "2025-07-10T22:35:24.350201Z"
    }
   },
   "cell_type": "code",
   "source": [
    "# Supposons que ton modèle s'appelle `model`\n",
    "total_params = sum(p.numel() for p in model_BERT_LORA.parameters())\n",
    "trainable_params = sum(p.numel() for p in model_BERT_LORA.parameters() if p.requires_grad)\n",
    "\n",
    "print(f\"BERT LORA Total parameters: {total_params}\")\n",
    "print(f\"BERT LORA Trainable parameters: {trainable_params}\")"
   ],
   "id": "db1b08a532308dad",
   "outputs": [
    {
     "name": "stdout",
     "output_type": "stream",
     "text": [
      "BERT LORA Total parameters: 109786380\n",
      "BERT LORA Trainable parameters: 299526\n"
     ]
    }
   ],
   "execution_count": 25
  }
 ],
 "metadata": {
  "kernelspec": {
   "display_name": "Python 3",
   "language": "python",
   "name": "python3"
  },
  "language_info": {
   "codemirror_mode": {
    "name": "ipython",
    "version": 2
   },
   "file_extension": ".py",
   "mimetype": "text/x-python",
   "name": "python",
   "nbconvert_exporter": "python",
   "pygments_lexer": "ipython2",
   "version": "2.7.6"
  }
 },
 "nbformat": 4,
 "nbformat_minor": 5
}
