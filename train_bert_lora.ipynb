{
 "cells": [
  {
   "cell_type": "code",
   "id": "initial_id",
   "metadata": {
    "collapsed": true,
    "ExecuteTime": {
     "end_time": "2025-07-10T19:52:13.808465Z",
     "start_time": "2025-07-10T19:52:11.086245Z"
    }
   },
   "source": [
    "import torch\n",
    "import evaluate\n",
    "import numpy as np\n",
    "import matplotlib.pyplot as plt\n",
    "from src.preprocessing import Data\n",
    "from peft import LoraConfig, get_peft_model\n",
    "from transformers import BertForSequenceClassification, TrainingArguments, Trainer"
   ],
   "outputs": [],
   "execution_count": 1
  },
  {
   "metadata": {
    "ExecuteTime": {
     "end_time": "2025-07-10T19:52:14.034789Z",
     "start_time": "2025-07-10T19:52:13.811461Z"
    }
   },
   "cell_type": "code",
   "source": [
    "batch_size=32\n",
    "max_len = 64\n",
    "device = torch.device(\"mps\" if torch.backends.mps.is_available() else \"cpu\" )\n",
    "data = Data(bert_token = True, train_file = \"data/train_dataset.csv\", test_file = \"data/test_dataset.csv\", val_file = \"data/validation_dataset.csv\", max_length=max_len)\n",
    "train_dataset, val_dataset, test_dataset = data.load_data_transformers_like(device=device)"
   ],
   "id": "b27204bc5bc978b7",
   "outputs": [],
   "execution_count": 2
  },
  {
   "metadata": {
    "ExecuteTime": {
     "end_time": "2025-07-10T19:52:15.206202Z",
     "start_time": "2025-07-10T19:52:14.111116Z"
    }
   },
   "cell_type": "code",
   "source": [
    "# Parameters \n",
    "if data.output_dim is not None:\n",
    "    output_dim: int= data.output_dim \n",
    "else:\n",
    "    raise \"Output dimension is unknown\"\n",
    "\n",
    "n_epochs = 15\n",
    "device = torch.device(\"mps\" if torch.backends.mps.is_available() else \"cpu\" )\n",
    "model = BertForSequenceClassification.from_pretrained(\"bert-base-uncased\", num_labels=output_dim, ignore_mismatched_sizes=True)\n",
    "metric = evaluate.load(\"accuracy\")"
   ],
   "id": "71de67d28bd12ade",
   "outputs": [
    {
     "name": "stderr",
     "output_type": "stream",
     "text": [
      "Some weights of BertForSequenceClassification were not initialized from the model checkpoint at bert-base-uncased and are newly initialized: ['classifier.bias', 'classifier.weight']\n",
      "You should probably TRAIN this model on a down-stream task to be able to use it for predictions and inference.\n"
     ]
    }
   ],
   "execution_count": 3
  },
  {
   "metadata": {
    "ExecuteTime": {
     "end_time": "2025-07-10T19:52:15.249867Z",
     "start_time": "2025-07-10T19:52:15.217830Z"
    }
   },
   "cell_type": "code",
   "source": [
    "lora_config = LoraConfig(\n",
    "    r=8, # Taille des matrices de basse-rang\n",
    "    lora_alpha=16, # Facteur de mise à l’échelle\n",
    "    lora_dropout=0.1, # Dropout pour éviter le sur-apprentissage\n",
    "    bias=\"none\",\n",
    "    task_type=\"SEQ_CLS\" # Pour classification de texte (Sequence Classification)\n",
    ")\n",
    "model = get_peft_model(model, lora_config)\n",
    "model.print_trainable_parameters()  # Vérifier que seuls les paramètres LoRA sont entraînables"
   ],
   "id": "e7870e6d348c2664",
   "outputs": [
    {
     "name": "stdout",
     "output_type": "stream",
     "text": [
      "trainable params: 299,526 || all params: 109,786,380 || trainable%: 0.2728\n"
     ]
    }
   ],
   "execution_count": 4
  },
  {
   "metadata": {
    "ExecuteTime": {
     "end_time": "2025-07-10T19:52:15.261722Z",
     "start_time": "2025-07-10T19:52:15.258925Z"
    }
   },
   "cell_type": "code",
   "source": [
    "def compute_metrics(eval_pred):\n",
    "    logits, labels = eval_pred\n",
    "    predictions = np.argmax(logits, axis=1)\n",
    "    return metric.compute(predictions=predictions, references=labels)"
   ],
   "id": "50f810d474cc810a",
   "outputs": [],
   "execution_count": 5
  },
  {
   "metadata": {
    "ExecuteTime": {
     "end_time": "2025-07-10T19:52:16.045188Z",
     "start_time": "2025-07-10T19:52:15.269427Z"
    }
   },
   "cell_type": "code",
   "source": [
    "training_args = TrainingArguments(\n",
    "    output_dir=\"results\",\n",
    "    eval_strategy=\"epoch\",\n",
    "    per_device_train_batch_size=batch_size,\n",
    "    per_device_eval_batch_size=batch_size,\n",
    "    num_train_epochs=n_epochs,\n",
    "    logging_dir=\"logs\",\n",
    "    load_best_model_at_end=True,\n",
    "    save_strategy=\"epoch\",\n",
    "    logging_strategy=\"epoch\",\n",
    ")\n",
    "trainer = Trainer(\n",
    "    model=model,\n",
    "    args=training_args,\n",
    "    train_dataset=train_dataset,\n",
    "    eval_dataset=val_dataset,\n",
    "    compute_metrics=compute_metrics,\n",
    ")"
   ],
   "id": "3e05e7731b7cb655",
   "outputs": [
    {
     "name": "stderr",
     "output_type": "stream",
     "text": [
      "No label_names provided for model class `PeftModelForSequenceClassification`. Since `PeftModel` hides base models input arguments, if label_names is not given, label_names can't be set automatically within `Trainer`. Note that empty label_names list will be used instead.\n"
     ]
    }
   ],
   "execution_count": 6
  },
  {
   "metadata": {
    "ExecuteTime": {
     "end_time": "2025-07-10T22:21:11.606807Z",
     "start_time": "2025-07-10T19:52:16.057119Z"
    }
   },
   "cell_type": "code",
   "source": "trainer.train()",
   "id": "7370370f7600e125",
   "outputs": [
    {
     "data": {
      "text/plain": [
       "<IPython.core.display.HTML object>"
      ],
      "text/html": [
       "\n",
       "    <div>\n",
       "      \n",
       "      <progress value='7500' max='7500' style='width:300px; height:20px; vertical-align: middle;'></progress>\n",
       "      [7500/7500 2:28:53, Epoch 15/15]\n",
       "    </div>\n",
       "    <table border=\"1\" class=\"dataframe\">\n",
       "  <thead>\n",
       " <tr style=\"text-align: left;\">\n",
       "      <th>Epoch</th>\n",
       "      <th>Training Loss</th>\n",
       "      <th>Validation Loss</th>\n",
       "      <th>Accuracy</th>\n",
       "    </tr>\n",
       "  </thead>\n",
       "  <tbody>\n",
       "    <tr>\n",
       "      <td>1</td>\n",
       "      <td>1.469400</td>\n",
       "      <td>1.159962</td>\n",
       "      <td>0.566500</td>\n",
       "    </tr>\n",
       "    <tr>\n",
       "      <td>2</td>\n",
       "      <td>1.081400</td>\n",
       "      <td>0.920172</td>\n",
       "      <td>0.644500</td>\n",
       "    </tr>\n",
       "    <tr>\n",
       "      <td>3</td>\n",
       "      <td>0.842300</td>\n",
       "      <td>0.717126</td>\n",
       "      <td>0.734000</td>\n",
       "    </tr>\n",
       "    <tr>\n",
       "      <td>4</td>\n",
       "      <td>0.686100</td>\n",
       "      <td>0.596334</td>\n",
       "      <td>0.775500</td>\n",
       "    </tr>\n",
       "    <tr>\n",
       "      <td>5</td>\n",
       "      <td>0.585100</td>\n",
       "      <td>0.497772</td>\n",
       "      <td>0.816000</td>\n",
       "    </tr>\n",
       "    <tr>\n",
       "      <td>6</td>\n",
       "      <td>0.511100</td>\n",
       "      <td>0.425944</td>\n",
       "      <td>0.848000</td>\n",
       "    </tr>\n",
       "    <tr>\n",
       "      <td>7</td>\n",
       "      <td>0.461700</td>\n",
       "      <td>0.378472</td>\n",
       "      <td>0.867000</td>\n",
       "    </tr>\n",
       "    <tr>\n",
       "      <td>8</td>\n",
       "      <td>0.423800</td>\n",
       "      <td>0.358636</td>\n",
       "      <td>0.872500</td>\n",
       "    </tr>\n",
       "    <tr>\n",
       "      <td>9</td>\n",
       "      <td>0.392100</td>\n",
       "      <td>0.328681</td>\n",
       "      <td>0.892500</td>\n",
       "    </tr>\n",
       "    <tr>\n",
       "      <td>10</td>\n",
       "      <td>0.370700</td>\n",
       "      <td>0.310725</td>\n",
       "      <td>0.899500</td>\n",
       "    </tr>\n",
       "    <tr>\n",
       "      <td>11</td>\n",
       "      <td>0.357900</td>\n",
       "      <td>0.293584</td>\n",
       "      <td>0.904000</td>\n",
       "    </tr>\n",
       "    <tr>\n",
       "      <td>12</td>\n",
       "      <td>0.344300</td>\n",
       "      <td>0.284346</td>\n",
       "      <td>0.904500</td>\n",
       "    </tr>\n",
       "    <tr>\n",
       "      <td>13</td>\n",
       "      <td>0.331300</td>\n",
       "      <td>0.281166</td>\n",
       "      <td>0.904500</td>\n",
       "    </tr>\n",
       "    <tr>\n",
       "      <td>14</td>\n",
       "      <td>0.327200</td>\n",
       "      <td>0.275417</td>\n",
       "      <td>0.910500</td>\n",
       "    </tr>\n",
       "    <tr>\n",
       "      <td>15</td>\n",
       "      <td>0.322500</td>\n",
       "      <td>0.273519</td>\n",
       "      <td>0.909500</td>\n",
       "    </tr>\n",
       "  </tbody>\n",
       "</table><p>"
      ]
     },
     "metadata": {},
     "output_type": "display_data"
    },
    {
     "data": {
      "text/plain": [
       "TrainOutput(global_step=7500, training_loss=0.5671248352050782, metrics={'train_runtime': 8935.409, 'train_samples_per_second': 26.859, 'train_steps_per_second': 0.839, 'total_flos': 7921219461120000.0, 'train_loss': 0.5671248352050782, 'epoch': 15.0})"
      ]
     },
     "execution_count": 7,
     "metadata": {},
     "output_type": "execute_result"
    }
   ],
   "execution_count": 7
  },
  {
   "metadata": {
    "ExecuteTime": {
     "end_time": "2025-07-10T22:21:11.825530Z",
     "start_time": "2025-07-10T22:21:11.818736Z"
    }
   },
   "cell_type": "code",
   "source": "logs = trainer.state.log_history",
   "id": "8cb60e4b63a2c790",
   "outputs": [],
   "execution_count": 8
  },
  {
   "metadata": {
    "ExecuteTime": {
     "end_time": "2025-07-10T22:21:12.296039Z",
     "start_time": "2025-07-10T22:21:11.915845Z"
    }
   },
   "cell_type": "code",
   "source": [
    "train_loss = [log[\"loss\"] for log in logs if \"loss\" in log]\n",
    "eval_loss = [log[\"eval_loss\"] for log in logs if \"eval_loss\" in log]\n",
    "epochs = [log[\"epoch\"] for log in logs if \"epoch\" in log and \"loss\" in log]\n",
    "eval_epochs = [log[\"epoch\"] for log in logs if \"epoch\" in log and \"eval_loss\" in log]\n",
    "\n",
    "plt.figure(figsize=(8, 6))\n",
    "plt.plot(epochs, train_loss, label=\"Training Loss\")\n",
    "plt.plot(eval_epochs, eval_loss, label=\"Validation Loss\")\n",
    "plt.xlabel(\"Epoch\")\n",
    "plt.ylabel(\"Loss\")\n",
    "plt.title(\"Training and Validation Loss\")\n",
    "plt.legend()\n",
    "plt.show()"
   ],
   "id": "4bc268821332a911",
   "outputs": [
    {
     "data": {
      "text/plain": [
       "<Figure size 800x600 with 1 Axes>"
      ],
      "image/png": "[encoded data removed]"
     },
     "metadata": {},
     "output_type": "display_data"
    }
   ],
   "execution_count": 9
  },
  {
   "metadata": {
    "ExecuteTime": {
     "end_time": "2025-07-10T22:22:17.541960Z",
     "start_time": "2025-07-10T22:22:16.352610Z"
    }
   },
   "cell_type": "code",
   "source": "torch.save(model.state_dict(), 'models/lora_bert_model.pth')",
   "id": "8d1faa9eba07a9ba",
   "outputs": [],
   "execution_count": 10
  }
 ],
 "metadata": {
  "kernelspec": {
   "display_name": "Python 3",
   "language": "python",
   "name": "python3"
  },
  "language_info": {
   "codemirror_mode": {
    "name": "ipython",
    "version": 2
   },
   "file_extension": ".py",
   "mimetype": "text/x-python",
   "name": "python",
   "nbconvert_exporter": "python",
   "pygments_lexer": "ipython2",
   "version": "2.7.6"
  }
 },
 "nbformat": 4,
 "nbformat_minor": 5
}
