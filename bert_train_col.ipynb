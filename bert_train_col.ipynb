{
 "nbformat": 4,
 "nbformat_minor": 0,
 "metadata": {
  "colab": {
   "provenance": [],
   "gpuType": "T4"
  },
  "kernelspec": {
   "name": "python3",
   "display_name": "Python 3"
  },
  "language_info": {
   "name": "python"
  },
  "accelerator": "GPU"
 },
 "cells": [
  {
   "cell_type": "code",
   "execution_count": 1,
   "metadata": {
    "colab": {
     "base_uri": "https://localhost:8080/"
    },
    "id": "vWFhFA4YAfJa",
    "outputId": "15f65607-aab2-426e-b1d4-25713005eaf9"
   },
   "outputs": [
    {
     "output_type": "stream",
     "name": "stdout",
     "text": [
      "Sat Mar 29 13:57:39 2025       \n",
      "+-----------------------------------------------------------------------------------------+\n",
      "| NVIDIA-SMI 550.54.15              Driver Version: 550.54.15      CUDA Version: 12.4     |\n",
      "|-----------------------------------------+------------------------+----------------------+\n",
      "| GPU  Name                 Persistence-M | Bus-Id          Disp.A | Volatile Uncorr. ECC |\n",
      "| Fan  Temp   Perf          Pwr:Usage/Cap |           Memory-Usage | GPU-Util  Compute M. |\n",
      "|                                         |                        |               MIG M. |\n",
      "|=========================================+========================+======================|\n",
      "|   0  Tesla T4                       Off |   00000000:00:04.0 Off |                    0 |\n",
      "| N/A   67C    P8             12W /   70W |       0MiB /  15360MiB |      0%      Default |\n",
      "|                                         |                        |                  N/A |\n",
      "+-----------------------------------------+------------------------+----------------------+\n",
      "                                                                                         \n",
      "+-----------------------------------------------------------------------------------------+\n",
      "| Processes:                                                                              |\n",
      "|  GPU   GI   CI        PID   Type   Process name                              GPU Memory |\n",
      "|        ID   ID                                                               Usage      |\n",
      "|=========================================================================================|\n",
      "|  No running processes found                                                             |\n",
      "+-----------------------------------------------------------------------------------------+\n"
     ]
    }
   ],
   "source": [
    "!nvidia-smi"
   ]
  },
  {
   "cell_type": "code",
   "source": [
    "!pip install datasets"
   ],
   "metadata": {
    "colab": {
     "base_uri": "https://localhost:8080/"
    },
    "id": "1QIpIF-kF_1m",
    "outputId": "25d60b82-b756-4b09-c1c1-147c0729cad2"
   },
   "execution_count": 2,
   "outputs": [
    {
     "output_type": "stream",
     "name": "stdout",
     "text": [
      "Requirement already satisfied: datasets in /usr/local/lib/python3.11/dist-packages (3.5.0)\n",
      "Requirement already satisfied: filelock in /usr/local/lib/python3.11/dist-packages (from datasets) (3.18.0)\n",
      "Requirement already satisfied: numpy>=1.17 in /usr/local/lib/python3.11/dist-packages (from datasets) (2.0.2)\n",
      "Requirement already satisfied: pyarrow>=15.0.0 in /usr/local/lib/python3.11/dist-packages (from datasets) (18.1.0)\n",
      "Requirement already satisfied: dill<0.3.9,>=0.3.0 in /usr/local/lib/python3.11/dist-packages (from datasets) (0.3.8)\n",
      "Requirement already satisfied: pandas in /usr/local/lib/python3.11/dist-packages (from datasets) (2.2.2)\n",
      "Requirement already satisfied: requests>=2.32.2 in /usr/local/lib/python3.11/dist-packages (from datasets) (2.32.3)\n",
      "Requirement already satisfied: tqdm>=4.66.3 in /usr/local/lib/python3.11/dist-packages (from datasets) (4.67.1)\n",
      "Requirement already satisfied: xxhash in /usr/local/lib/python3.11/dist-packages (from datasets) (3.5.0)\n",
      "Requirement already satisfied: multiprocess<0.70.17 in /usr/local/lib/python3.11/dist-packages (from datasets) (0.70.16)\n",
      "Requirement already satisfied: fsspec<=2024.12.0,>=2023.1.0 in /usr/local/lib/python3.11/dist-packages (from fsspec[http]<=2024.12.0,>=2023.1.0->datasets) (2024.12.0)\n",
      "Requirement already satisfied: aiohttp in /usr/local/lib/python3.11/dist-packages (from datasets) (3.11.14)\n",
      "Requirement already satisfied: huggingface-hub>=0.24.0 in /usr/local/lib/python3.11/dist-packages (from datasets) (0.29.3)\n",
      "Requirement already satisfied: packaging in /usr/local/lib/python3.11/dist-packages (from datasets) (24.2)\n",
      "Requirement already satisfied: pyyaml>=5.1 in /usr/local/lib/python3.11/dist-packages (from datasets) (6.0.2)\n",
      "Requirement already satisfied: aiohappyeyeballs>=2.3.0 in /usr/local/lib/python3.11/dist-packages (from aiohttp->datasets) (2.6.1)\n",
      "Requirement already satisfied: aiosignal>=1.1.2 in /usr/local/lib/python3.11/dist-packages (from aiohttp->datasets) (1.3.2)\n",
      "Requirement already satisfied: attrs>=17.3.0 in /usr/local/lib/python3.11/dist-packages (from aiohttp->datasets) (25.3.0)\n",
      "Requirement already satisfied: frozenlist>=1.1.1 in /usr/local/lib/python3.11/dist-packages (from aiohttp->datasets) (1.5.0)\n",
      "Requirement already satisfied: multidict<7.0,>=4.5 in /usr/local/lib/python3.11/dist-packages (from aiohttp->datasets) (6.2.0)\n",
      "Requirement already satisfied: propcache>=0.2.0 in /usr/local/lib/python3.11/dist-packages (from aiohttp->datasets) (0.3.0)\n",
      "Requirement already satisfied: yarl<2.0,>=1.17.0 in /usr/local/lib/python3.11/dist-packages (from aiohttp->datasets) (1.18.3)\n",
      "Requirement already satisfied: typing-extensions>=3.7.4.3 in /usr/local/lib/python3.11/dist-packages (from huggingface-hub>=0.24.0->datasets) (4.12.2)\n",
      "Requirement already satisfied: charset-normalizer<4,>=2 in /usr/local/lib/python3.11/dist-packages (from requests>=2.32.2->datasets) (3.4.1)\n",
      "Requirement already satisfied: idna<4,>=2.5 in /usr/local/lib/python3.11/dist-packages (from requests>=2.32.2->datasets) (3.10)\n",
      "Requirement already satisfied: urllib3<3,>=1.21.1 in /usr/local/lib/python3.11/dist-packages (from requests>=2.32.2->datasets) (2.3.0)\n",
      "Requirement already satisfied: certifi>=2017.4.17 in /usr/local/lib/python3.11/dist-packages (from requests>=2.32.2->datasets) (2025.1.31)\n",
      "Requirement already satisfied: python-dateutil>=2.8.2 in /usr/local/lib/python3.11/dist-packages (from pandas->datasets) (2.8.2)\n",
      "Requirement already satisfied: pytz>=2020.1 in /usr/local/lib/python3.11/dist-packages (from pandas->datasets) (2025.1)\n",
      "Requirement already satisfied: tzdata>=2022.7 in /usr/local/lib/python3.11/dist-packages (from pandas->datasets) (2025.1)\n",
      "Requirement already satisfied: six>=1.5 in /usr/local/lib/python3.11/dist-packages (from python-dateutil>=2.8.2->pandas->datasets) (1.17.0)\n"
     ]
    }
   ]
  },
  {
   "cell_type": "code",
   "source": [
    "from datasets import load_dataset\n",
    "from transformers import BertTokenizer, BertForSequenceClassification, DistilBertForSequenceClassification\n",
    "from torch.utils.data import DataLoader\n",
    "import torch.nn as nn\n",
    "import torch\n",
    "from tqdm import tqdm\n",
    "import seaborn as sns\n",
    "import matplotlib.pyplot as plt\n",
    "import time"
   ],
   "metadata": {
    "id": "tWIyh8ERJV78"
   },
   "execution_count": 3,
   "outputs": []
  },
  {
   "cell_type": "code",
   "source": [
    "ds = load_dataset(\"dair-ai/emotion\", \"split\")\n",
    "tokenizer = BertTokenizer.from_pretrained(\"bert-base-uncased\")\n",
    "def tokenize_function(samples):\n",
    "      return tokenizer(samples[\"text\"], padding=\"max_length\", truncation=True, max_length=128)\n",
    "tokenized_datasets = ds.map(tokenize_function, batched=True)\n",
    "data = tokenized_datasets.copy()\n",
    "tokenized_datasets.remove_columns('text')\n",
    "tokenized_datasets.set_format(\"torch\")\n",
    "batch_size=32\n",
    "train_dataloader = DataLoader(tokenized_datasets[\"train\"], batch_size=batch_size, shuffle=True)\n",
    "validation_dataloader = DataLoader(tokenized_datasets[\"validation\"], batch_size=batch_size*4, shuffle=False)\n",
    "test_dataloader = DataLoader(tokenized_datasets[\"test\"], batch_size=batch_size*4, shuffle=False)\n",
    "print(f\"{len(train_dataloader.dataset)} train samples, {len(validation_dataloader.dataset)} validation samples, {len(test_dataloader.dataset)} test samples\")"
   ],
   "metadata": {
    "colab": {
     "base_uri": "https://localhost:8080/"
    },
    "id": "ojaPtKRvJdhl",
    "outputId": "b7de8618-c5d2-497d-f9ce-cb7672d1edf0"
   },
   "execution_count": 4,
   "outputs": [
    {
     "output_type": "stream",
     "name": "stderr",
     "text": [
      "/usr/local/lib/python3.11/dist-packages/huggingface_hub/utils/_auth.py:94: UserWarning: \n",
      "The secret `HF_TOKEN` does not exist in your Colab secrets.\n",
      "To authenticate with the Hugging Face Hub, create a token in your settings tab (https://huggingface.co/settings/tokens), set it as secret in your Google Colab and restart your session.\n",
      "You will be able to reuse this secret in all of your notebooks.\n",
      "Please note that authentication is recommended but still optional to access public models or datasets.\n",
      "  warnings.warn(\n"
     ]
    },
    {
     "output_type": "stream",
     "name": "stdout",
     "text": [
      "16000 train samples, 2000 validation samples, 2000 test samples\n"
     ]
    }
   ]
  },
  {
   "cell_type": "code",
   "source": [
    "# Parameters\n",
    "device = torch.device(\"cuda\" if torch.cuda.is_available() else \"cpu\" )\n",
    "print(device)\n",
    "output_dim = len(torch.unique(tokenized_datasets['train']['label']))\n",
    "print(device)\n",
    "model = BertForSequenceClassification.from_pretrained(\"bert-base-uncased\", num_labels=output_dim)\n",
    "criterion = nn.CrossEntropyLoss()\n",
    "optimizer = torch.optim.Adam(model.parameters(), lr=2e-5) # torch.optim.Adam(model.parameters(), lr=1e-4)"
   ],
   "metadata": {
    "colab": {
     "base_uri": "https://localhost:8080/"
    },
    "id": "LdcGh_NDJYjS",
    "outputId": "c1ed65fc-c538-4483-e4c9-07c1544e5924"
   },
   "execution_count": 5,
   "outputs": [
    {
     "output_type": "stream",
     "name": "stdout",
     "text": [
      "cuda\n",
      "cuda\n"
     ]
    },
    {
     "output_type": "stream",
     "name": "stderr",
     "text": [
      "Some weights of BertForSequenceClassification were not initialized from the model checkpoint at bert-base-uncased and are newly initialized: ['classifier.bias', 'classifier.weight']\n",
      "You should probably TRAIN this model on a down-stream task to be able to use it for predictions and inference.\n"
     ]
    }
   ]
  },
  {
   "cell_type": "code",
   "source": [
    "batch_train = next(iter(train_dataloader))\n",
    "batch_val = next(iter(validation_dataloader))\n",
    "target, source, mask = batch_train['label'], batch_train['input_ids'], batch_train['attention_mask']\n",
    "target_v, source_v, mask_v = batch_val['label'], batch_val['input_ids'], batch_val['attention_mask']\n",
    "print(f'{target.shape}, {source.shape}, {mask.shape}')"
   ],
   "metadata": {
    "colab": {
     "base_uri": "https://localhost:8080/"
    },
    "id": "PAYKVnrEJjdW",
    "outputId": "c66c55cd-52fc-478f-b685-9e31050b039b"
   },
   "execution_count": 6,
   "outputs": [
    {
     "output_type": "stream",
     "name": "stdout",
     "text": [
      "torch.Size([32]), torch.Size([32, 128]), torch.Size([32, 128])\n"
     ]
    }
   ]
  },
  {
   "cell_type": "code",
   "source": [
    "# Training params\n",
    "n_epochs = 10\n",
    "model = model.to(device)\n",
    "train_losses = []\n",
    "val_losses = []\n",
    "\n",
    "for e in tqdm(range(n_epochs), desc=\"Epoch: \"):\n",
    "    # device = torch.device(\"mps\" if torch.mps.is_available() else \"cpu\" )\n",
    "    losstot = 0\n",
    "    model.to(device)\n",
    "    model.train()\n",
    "    for i, batch in enumerate(train_dataloader):\n",
    "        target, source, mask = batch['label'], batch['input_ids'], batch['attention_mask']\n",
    "        target = target.to(device)\n",
    "        source = source.to(device)\n",
    "        mask = mask.to(device).bool()\n",
    "        outputs = model(source, mask)\n",
    "        loss = criterion(outputs.logits, target)\n",
    "        start_time = time.time()\n",
    "        loss.backward()\n",
    "        optimizer.step()\n",
    "        optimizer.zero_grad()\n",
    "        stop_time = time.time()\n",
    "        losstot += loss.item()\n",
    "    train_error = losstot/(len(train_dataloader))\n",
    "    train_losses.append(train_error)\n",
    "    losstot = 0\n",
    "\n",
    "    with torch.no_grad():\n",
    "        model.eval()\n",
    "        model.to(device)\n",
    "        for i, val_batch in enumerate(validation_dataloader):\n",
    "            target, source, mask = val_batch['label'], val_batch['input_ids'], val_batch['attention_mask']\n",
    "            target = target.to(device)\n",
    "            source = source.to(device)\n",
    "            mask = mask.to(device).bool()\n",
    "            outputs = model(source, mask)\n",
    "            loss = criterion(outputs.logits, target)\n",
    "            losstot += loss.item()\n",
    "    val_error = losstot/(len(validation_dataloader))\n",
    "    val_losses.append(val_error)\n",
    "\n",
    "    if val_error > min(val_losses) + 0.05 or val_error > train_error:\n",
    "        print(\"Training Break\")\n",
    "        break\n",
    "sns.lineplot(train_losses, label=\"train\")\n",
    "sns.lineplot(val_losses, label=\"val\")\n",
    "plt.show()"
   ],
   "metadata": {
    "colab": {
     "base_uri": "https://localhost:8080/",
     "height": 464
    },
    "id": "m9DiwXEtJnV-",
    "outputId": "ffa73b4d-9bb0-4878-bf36-1af836b896f6"
   },
   "execution_count": 7,
   "outputs": [
    {
     "output_type": "stream",
     "name": "stderr",
     "text": [
      "Epoch:  10%|█         | 1/10 [10:33<1:35:05, 633.98s/it]"
     ]
    },
    {
     "output_type": "stream",
     "name": "stdout",
     "text": [
      "Training Break\n"
     ]
    },
    {
     "output_type": "stream",
     "name": "stderr",
     "text": [
      "\n"
     ]
    },
    {
     "output_type": "display_data",
     "data": {
      "text/plain": [
       "<Figure size 640x480 with 1 Axes>"
      ],
      "image/png": "[encoded data removed]"
     },
     "metadata": {}
    }
   ]
  },
  {
   "cell_type": "code",
   "source": [
    "losstot = 0\n",
    "correct = 0\n",
    "\n",
    "with torch.no_grad():  # Pas de calcul des gradients\n",
    "    model.eval()  # Mode évaluation\n",
    "    model.to(device)\n",
    "    for i, val_batch in enumerate(test_dataloader):  # Traitement par batch\n",
    "        target, source, mask = val_batch['label'], val_batch['input_ids'], val_batch['attention_mask']\n",
    "        target = target.to(device)\n",
    "        source = source.to(device)\n",
    "        mask = mask.to(device).bool()\n",
    "        # Passage avant\n",
    "        outputs = model(source, mask)\n",
    "        # Calcul de la perte\n",
    "        loss = criterion(outputs.logits, target)\n",
    "        # Calcul des prédictions\n",
    "        predicted = torch.argmax(outputs.logits, dim=1)\n",
    "        correct += (predicted == target).sum().item()\n",
    "        losstot += loss.item()  # Additionne la perte\n",
    "\n",
    "# Calcul de la précision\n",
    "accuracy = 100 * correct / len(test_dataloader.dataset)\n",
    "\n",
    "print(f'Loss: {losstot / len(test_dataloader)}')  # Afficher la perte moyenne\n",
    "print(f'Accuracy: {accuracy}%')  # Afficher la précision en pourcentage"
   ],
   "metadata": {
    "colab": {
     "base_uri": "https://localhost:8080/"
    },
    "id": "MOVmNQhrPua-",
    "outputId": "1058a1fc-9508-4e68-b239-c9e59d3bf123"
   },
   "execution_count": 8,
   "outputs": [
    {
     "output_type": "stream",
     "name": "stdout",
     "text": [
      "Loss: 0.1613140986301005\n",
      "Accuracy: 92.65%\n"
     ]
    }
   ]
  },
  {
   "cell_type": "code",
   "source": [
    "torch.save(model.state_dict(), 'bert_model.pth')"
   ],
   "metadata": {
    "id": "q1xmTlJYPxWs"
   },
   "execution_count": 10,
   "outputs": []
  },
  {
   "cell_type": "code",
   "source": [
    "import numpy as np\n",
    "np.savez(\"model_bert_stats.npz\", train_losses=np.array(train_losses), valid_losses=np.array(val_losses), allow_pickle=True)"
   ],
   "metadata": {
    "id": "BFuyxaTuTPN6"
   },
   "execution_count": 14,
   "outputs": []
  }
 ]
}
